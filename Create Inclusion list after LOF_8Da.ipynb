{
 "cells": [
  {
   "cell_type": "code",
   "execution_count": 2,
   "id": "42dd6cf9",
   "metadata": {},
   "outputs": [],
   "source": [
    "import pandas as pd"
   ]
  },
  {
   "cell_type": "code",
   "execution_count": 8,
   "id": "26335f6f-86fa-49d5-b185-2d0d6c093573",
   "metadata": {},
   "outputs": [],
   "source": [
    "df_1 = pd.read_csv('DIA_8Da_400_1000mz.CSV') #This is your inclusion list template. The isolation list (mass m/z) can be obtained from Skyline."
   ]
  },
  {
   "cell_type": "code",
   "execution_count": 9,
   "id": "ed3e9595",
   "metadata": {},
   "outputs": [],
   "source": [
    "df_2 = pd.read_csv('072225_d3 neuron_n=200_Example for paper.csv') # This is list obtained after LOF code"
   ]
  },
  {
   "cell_type": "code",
   "execution_count": 10,
   "id": "ccc296c5",
   "metadata": {},
   "outputs": [
    {
     "data": {
      "text/plain": [
       "((150, 12), (28186, 7))"
      ]
     },
     "execution_count": 10,
     "metadata": {},
     "output_type": "execute_result"
    }
   ],
   "source": [
    "df_1.shape, df_2.shape"
   ]
  },
  {
   "cell_type": "code",
   "execution_count": 11,
   "id": "b48e1e7f",
   "metadata": {},
   "outputs": [
    {
     "data": {
      "text/plain": [
       "Index(['Mass [m/z]', 'Formula [M]', 'Formula type', 'Species', 'CS [z]',\n",
       "       'Polarity', 'Start [min]', 'End [min]', '(N)CE', '(N)CE type', 'MSX ID',\n",
       "       'Comment'],\n",
       "      dtype='object')"
      ]
     },
     "execution_count": 11,
     "metadata": {},
     "output_type": "execute_result"
    }
   ],
   "source": [
    "df_1.columns"
   ]
  },
  {
   "cell_type": "code",
   "execution_count": 12,
   "id": "4c6b7dd4",
   "metadata": {},
   "outputs": [],
   "source": [
    "lower_bound = df_1['Mass [m/z]']-4.00182"
   ]
  },
  {
   "cell_type": "code",
   "execution_count": 13,
   "id": "2b835f9b",
   "metadata": {},
   "outputs": [
    {
     "data": {
      "text/plain": [
       "0      400.43190\n",
       "1      408.43554\n",
       "2      416.43918\n",
       "3      424.44281\n",
       "4      432.44645\n",
       "         ...    \n",
       "145    956.68474\n",
       "146    964.68838\n",
       "147    972.69202\n",
       "148    980.69565\n",
       "149    988.69929\n",
       "Name: Mass [m/z], Length: 150, dtype: float64"
      ]
     },
     "execution_count": 13,
     "metadata": {},
     "output_type": "execute_result"
    }
   ],
   "source": [
    "lower_bound\n"
   ]
  },
  {
   "cell_type": "code",
   "execution_count": 14,
   "id": "0d2a3453",
   "metadata": {},
   "outputs": [
    {
     "data": {
      "text/plain": [
       "0      408.43554\n",
       "1      416.43918\n",
       "2      424.44282\n",
       "3      432.44645\n",
       "4      440.45009\n",
       "         ...    \n",
       "145    964.68838\n",
       "146    972.69202\n",
       "147    980.69566\n",
       "148    988.69929\n",
       "149    996.70293\n",
       "Name: Mass [m/z], Length: 150, dtype: float64"
      ]
     },
     "execution_count": 14,
     "metadata": {},
     "output_type": "execute_result"
    }
   ],
   "source": [
    "upper_bound = df_1['Mass [m/z]']+4.00182\n",
    "upper_bound"
   ]
  },
  {
   "cell_type": "code",
   "execution_count": 15,
   "id": "50f687ae",
   "metadata": {},
   "outputs": [
    {
     "data": {
      "text/plain": [
       "(150, 150)"
      ]
     },
     "execution_count": 15,
     "metadata": {},
     "output_type": "execute_result"
    }
   ],
   "source": [
    "len(lower_bound), len(upper_bound)"
   ]
  },
  {
   "cell_type": "code",
   "execution_count": 16,
   "id": "2c30a98b",
   "metadata": {},
   "outputs": [],
   "source": [
    "L = len(lower_bound)"
   ]
  },
  {
   "cell_type": "code",
   "execution_count": 17,
   "id": "ae056ada",
   "metadata": {},
   "outputs": [
    {
     "data": {
      "text/plain": [
       "Index(['m/z', 'RT', 'fit_predict', 'negative outlier factor', 'Uniprot ID',\n",
       "       'Contamination', 'Peptide Sequence'],\n",
       "      dtype='object')"
      ]
     },
     "execution_count": 17,
     "metadata": {},
     "output_type": "execute_result"
    }
   ],
   "source": [
    "df_2.columns"
   ]
  },
  {
   "cell_type": "code",
   "execution_count": 18,
   "id": "b131d1b4",
   "metadata": {},
   "outputs": [],
   "source": [
    "df_2['m/z'] = df_2['m/z'].astype(float)"
   ]
  },
  {
   "cell_type": "code",
   "execution_count": 19,
   "id": "87eddceb",
   "metadata": {},
   "outputs": [],
   "source": [
    "df_2 = df_2.dropna(subset=['RT'])"
   ]
  },
  {
   "cell_type": "code",
   "execution_count": 31,
   "id": "dfd3e85f-f0c9-45da-85b3-0169254e7273",
   "metadata": {},
   "outputs": [],
   "source": [
    "dfs = []\n",
    "for i in range(L):\n",
    "    tmp_low, tmp_upper = lower_bound[i], upper_bound[i]\n",
    "    df_tmp = df_2[df_2['m/z'].between(tmp_low, tmp_upper)].sort_values(by='RT')\n",
    "    df_tmp['lower_bound'] = tmp_low\n",
    "    df_tmp['upper_bound'] = tmp_upper\n",
    "    df_tmp['min'] = df_tmp['RT'].min()\n",
    "    df_tmp['max'] = df_tmp['RT'].max()\n",
    "    df_tmp['Final m/z'] = (tmp_low+tmp_upper)/2\n",
    "    df_tmp['min-RTshift'] = df_tmp['RT'].min()-0.5\n",
    "    df_tmp['max+RTshift'] = df_tmp['RT'].max()+0.5\n",
    "    dfs.append(df_tmp)\n",
    "\n",
    "df_all = pd.concat(dfs, ignore_index=True)"
   ]
  },
  {
   "cell_type": "code",
   "execution_count": 32,
   "id": "bb04e4f9",
   "metadata": {},
   "outputs": [],
   "source": [
    "df_all.to_csv('072225_Results_n=200_test.csv', index=False)"
   ]
  },
  {
   "cell_type": "code",
   "execution_count": null,
   "id": "a5693aa0",
   "metadata": {},
   "outputs": [],
   "source": []
  }
 ],
 "metadata": {
  "kernelspec": {
   "display_name": "Python 3 (ipykernel)",
   "language": "python",
   "name": "python3"
  },
  "language_info": {
   "codemirror_mode": {
    "name": "ipython",
    "version": 3
   },
   "file_extension": ".py",
   "mimetype": "text/x-python",
   "name": "python",
   "nbconvert_exporter": "python",
   "pygments_lexer": "ipython3",
   "version": "3.12.8"
  }
 },
 "nbformat": 4,
 "nbformat_minor": 5
}
