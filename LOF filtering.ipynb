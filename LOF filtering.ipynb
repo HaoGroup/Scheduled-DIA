{
 "cells": [
  {
   "cell_type": "code",
   "execution_count": 1,
   "id": "5ad755ae",
   "metadata": {
    "scrolled": true
   },
   "outputs": [
    {
     "data": {
      "text/html": [
       "<div>\n",
       "<style scoped>\n",
       "    .dataframe tbody tr th:only-of-type {\n",
       "        vertical-align: middle;\n",
       "    }\n",
       "\n",
       "    .dataframe tbody tr th {\n",
       "        vertical-align: top;\n",
       "    }\n",
       "\n",
       "    .dataframe thead th {\n",
       "        text-align: right;\n",
       "    }\n",
       "</style>\n",
       "<table border=\"1\" class=\"dataframe\">\n",
       "  <thead>\n",
       "    <tr style=\"text-align: right;\">\n",
       "      <th></th>\n",
       "      <th>Annotated Sequence</th>\n",
       "      <th>Modifications</th>\n",
       "      <th>Contaminant</th>\n",
       "      <th># Protein Groups</th>\n",
       "      <th># Proteins</th>\n",
       "      <th># PSMs</th>\n",
       "      <th>Master Protein Accessions</th>\n",
       "      <th>Positions in Master Proteins</th>\n",
       "      <th>Theo. MH+ [Da]</th>\n",
       "      <th>m/z [Da] (by Search Engine): Sequest HT</th>\n",
       "      <th>RT [min] (by Search Engine): Sequest HT</th>\n",
       "    </tr>\n",
       "  </thead>\n",
       "  <tbody>\n",
       "    <tr>\n",
       "      <th>0</th>\n",
       "      <td>[K].AAAAAAAAAAAATGTEAGPGTAGGSENGSEVAAQPAGLSGPA...</td>\n",
       "      <td>NaN</td>\n",
       "      <td>False</td>\n",
       "      <td>1</td>\n",
       "      <td>1</td>\n",
       "      <td>1</td>\n",
       "      <td>O60341</td>\n",
       "      <td>O60341 [7-58]</td>\n",
       "      <td>4402.11417</td>\n",
       "      <td>1101.29041</td>\n",
       "      <td>90.9539</td>\n",
       "    </tr>\n",
       "    <tr>\n",
       "      <th>1</th>\n",
       "      <td>[K].LQVDALIDTIKK.[S]</td>\n",
       "      <td>NaN</td>\n",
       "      <td>False</td>\n",
       "      <td>1</td>\n",
       "      <td>1</td>\n",
       "      <td>2</td>\n",
       "      <td>Q92614</td>\n",
       "      <td>Q92614 [1027-1038]</td>\n",
       "      <td>1356.80969</td>\n",
       "      <td>452.94354</td>\n",
       "      <td>84.1757</td>\n",
       "    </tr>\n",
       "    <tr>\n",
       "      <th>2</th>\n",
       "      <td>[R].LQVAGEITTGPR.[V]</td>\n",
       "      <td>NaN</td>\n",
       "      <td>False</td>\n",
       "      <td>2</td>\n",
       "      <td>2</td>\n",
       "      <td>1</td>\n",
       "      <td>O75746; Q9UJS0</td>\n",
       "      <td>O75746 [454-465]; Q9UJS0 [456-467]</td>\n",
       "      <td>1241.68483</td>\n",
       "      <td>621.34930</td>\n",
       "      <td>57.7644</td>\n",
       "    </tr>\n",
       "    <tr>\n",
       "      <th>3</th>\n",
       "      <td>[R].IQTQPGYANTLR.[D]</td>\n",
       "      <td>NaN</td>\n",
       "      <td>False</td>\n",
       "      <td>1</td>\n",
       "      <td>1</td>\n",
       "      <td>1</td>\n",
       "      <td>Q00325</td>\n",
       "      <td>Q00325 [190-201]</td>\n",
       "      <td>1361.71719</td>\n",
       "      <td>681.36566</td>\n",
       "      <td>47.6564</td>\n",
       "    </tr>\n",
       "    <tr>\n",
       "      <th>4</th>\n",
       "      <td>[R].IQTLPNQNQSQTQPLLK.[T]</td>\n",
       "      <td>NaN</td>\n",
       "      <td>False</td>\n",
       "      <td>1</td>\n",
       "      <td>1</td>\n",
       "      <td>1</td>\n",
       "      <td>Q8IX12</td>\n",
       "      <td>Q8IX12 [205-221]</td>\n",
       "      <td>1951.06071</td>\n",
       "      <td>976.03992</td>\n",
       "      <td>65.0931</td>\n",
       "    </tr>\n",
       "    <tr>\n",
       "      <th>...</th>\n",
       "      <td>...</td>\n",
       "      <td>...</td>\n",
       "      <td>...</td>\n",
       "      <td>...</td>\n",
       "      <td>...</td>\n",
       "      <td>...</td>\n",
       "      <td>...</td>\n",
       "      <td>...</td>\n",
       "      <td>...</td>\n",
       "      <td>...</td>\n",
       "      <td>...</td>\n",
       "    </tr>\n",
       "    <tr>\n",
       "      <th>28181</th>\n",
       "      <td>[R].GQLLAQLGDSARHRPR.[R]</td>\n",
       "      <td>NaN</td>\n",
       "      <td>False</td>\n",
       "      <td>1</td>\n",
       "      <td>1</td>\n",
       "      <td>1</td>\n",
       "      <td>O60391</td>\n",
       "      <td>O60391 [1005-1020]</td>\n",
       "      <td>1774.97832</td>\n",
       "      <td>887.99280</td>\n",
       "      <td>131.5401</td>\n",
       "    </tr>\n",
       "    <tr>\n",
       "      <th>28182</th>\n",
       "      <td>[R].ILTTSSAHPGLEFSK.[T]</td>\n",
       "      <td>NaN</td>\n",
       "      <td>False</td>\n",
       "      <td>1</td>\n",
       "      <td>1</td>\n",
       "      <td>1</td>\n",
       "      <td>Q7L8L6</td>\n",
       "      <td>Q7L8L6 [68-82]</td>\n",
       "      <td>1587.83770</td>\n",
       "      <td>529.95868</td>\n",
       "      <td>62.5013</td>\n",
       "    </tr>\n",
       "    <tr>\n",
       "      <th>28183</th>\n",
       "      <td>[R].QEDKDDLDVTELTNEDLLDQLVK.[Y]</td>\n",
       "      <td>NaN</td>\n",
       "      <td>False</td>\n",
       "      <td>2</td>\n",
       "      <td>2</td>\n",
       "      <td>1</td>\n",
       "      <td>P42167; P42166</td>\n",
       "      <td>P42167 [104-126]; P42166 [104-126]</td>\n",
       "      <td>2688.30979</td>\n",
       "      <td>1344.66516</td>\n",
       "      <td>122.5677</td>\n",
       "    </tr>\n",
       "    <tr>\n",
       "      <th>28184</th>\n",
       "      <td>[R].EVPVISASTQIMLK.[G]</td>\n",
       "      <td>1xOxidation [M12]</td>\n",
       "      <td>False</td>\n",
       "      <td>1</td>\n",
       "      <td>1</td>\n",
       "      <td>1</td>\n",
       "      <td>Q9BX63</td>\n",
       "      <td>Q9BX63 [515-528]</td>\n",
       "      <td>1531.84001</td>\n",
       "      <td>766.42438</td>\n",
       "      <td>108.0715</td>\n",
       "    </tr>\n",
       "    <tr>\n",
       "      <th>28185</th>\n",
       "      <td>[R].TVMLIPGDK.[M]</td>\n",
       "      <td>1xOxidation [M3]</td>\n",
       "      <td>False</td>\n",
       "      <td>1</td>\n",
       "      <td>1</td>\n",
       "      <td>1</td>\n",
       "      <td>Q9P287</td>\n",
       "      <td>Q9P287 [292-300]</td>\n",
       "      <td>989.53359</td>\n",
       "      <td>495.27377</td>\n",
       "      <td>56.2925</td>\n",
       "    </tr>\n",
       "  </tbody>\n",
       "</table>\n",
       "<p>28186 rows × 11 columns</p>\n",
       "</div>"
      ],
      "text/plain": [
       "                                      Annotated Sequence      Modifications  \\\n",
       "0      [K].AAAAAAAAAAAATGTEAGPGTAGGSENGSEVAAQPAGLSGPA...                NaN   \n",
       "1                                   [K].LQVDALIDTIKK.[S]                NaN   \n",
       "2                                   [R].LQVAGEITTGPR.[V]                NaN   \n",
       "3                                   [R].IQTQPGYANTLR.[D]                NaN   \n",
       "4                              [R].IQTLPNQNQSQTQPLLK.[T]                NaN   \n",
       "...                                                  ...                ...   \n",
       "28181                           [R].GQLLAQLGDSARHRPR.[R]                NaN   \n",
       "28182                            [R].ILTTSSAHPGLEFSK.[T]                NaN   \n",
       "28183                    [R].QEDKDDLDVTELTNEDLLDQLVK.[Y]                NaN   \n",
       "28184                             [R].EVPVISASTQIMLK.[G]  1xOxidation [M12]   \n",
       "28185                                  [R].TVMLIPGDK.[M]   1xOxidation [M3]   \n",
       "\n",
       "       Contaminant  # Protein Groups  # Proteins  # PSMs  \\\n",
       "0            False                 1           1       1   \n",
       "1            False                 1           1       2   \n",
       "2            False                 2           2       1   \n",
       "3            False                 1           1       1   \n",
       "4            False                 1           1       1   \n",
       "...            ...               ...         ...     ...   \n",
       "28181        False                 1           1       1   \n",
       "28182        False                 1           1       1   \n",
       "28183        False                 2           2       1   \n",
       "28184        False                 1           1       1   \n",
       "28185        False                 1           1       1   \n",
       "\n",
       "      Master Protein Accessions        Positions in Master Proteins  \\\n",
       "0                        O60341                       O60341 [7-58]   \n",
       "1                        Q92614                  Q92614 [1027-1038]   \n",
       "2                O75746; Q9UJS0  O75746 [454-465]; Q9UJS0 [456-467]   \n",
       "3                        Q00325                    Q00325 [190-201]   \n",
       "4                        Q8IX12                    Q8IX12 [205-221]   \n",
       "...                         ...                                 ...   \n",
       "28181                    O60391                  O60391 [1005-1020]   \n",
       "28182                    Q7L8L6                      Q7L8L6 [68-82]   \n",
       "28183            P42167; P42166  P42167 [104-126]; P42166 [104-126]   \n",
       "28184                    Q9BX63                    Q9BX63 [515-528]   \n",
       "28185                    Q9P287                    Q9P287 [292-300]   \n",
       "\n",
       "       Theo. MH+ [Da]  m/z [Da] (by Search Engine): Sequest HT  \\\n",
       "0          4402.11417                               1101.29041   \n",
       "1          1356.80969                                452.94354   \n",
       "2          1241.68483                                621.34930   \n",
       "3          1361.71719                                681.36566   \n",
       "4          1951.06071                                976.03992   \n",
       "...               ...                                      ...   \n",
       "28181      1774.97832                                887.99280   \n",
       "28182      1587.83770                                529.95868   \n",
       "28183      2688.30979                               1344.66516   \n",
       "28184      1531.84001                                766.42438   \n",
       "28185       989.53359                                495.27377   \n",
       "\n",
       "       RT [min] (by Search Engine): Sequest HT  \n",
       "0                                      90.9539  \n",
       "1                                      84.1757  \n",
       "2                                      57.7644  \n",
       "3                                      47.6564  \n",
       "4                                      65.0931  \n",
       "...                                        ...  \n",
       "28181                                 131.5401  \n",
       "28182                                  62.5013  \n",
       "28183                                 122.5677  \n",
       "28184                                 108.0715  \n",
       "28185                                  56.2925  \n",
       "\n",
       "[28186 rows x 11 columns]"
      ]
     },
     "execution_count": 1,
     "metadata": {},
     "output_type": "execute_result"
    }
   ],
   "source": [
    "import pandas as pd\n",
    "from pandas import DataFrame, Series\n",
    "data = pd.read_csv('20220314_d3Neuron_pooled_DDA1_Peptide.csv')\n",
    "data"
   ]
  },
  {
   "cell_type": "code",
   "execution_count": 2,
   "id": "d67d7c45",
   "metadata": {},
   "outputs": [],
   "source": [
    "import numpy as np\n",
    "from sklearn.neighbors import LocalOutlierFactor"
   ]
  },
  {
   "cell_type": "code",
   "execution_count": 4,
   "id": "b1f8a98a",
   "metadata": {},
   "outputs": [],
   "source": [
    "#The column number may change based on your own data file. \n",
    "x = data.iloc[:,9] #m/z\n",
    "y = data.iloc[:,10] #RT\n",
    "z = data.iloc[:,2] #Contaminant\n",
    "h = data.iloc[:,6] #protein\n",
    "m = data.iloc[:,0] #peptide sequence"
   ]
  },
  {
   "cell_type": "code",
   "execution_count": 5,
   "id": "693478c2-7a0a-4290-b7c2-591bd523cd39",
   "metadata": {},
   "outputs": [
    {
     "data": {
      "text/plain": [
       "0        1101.29041\n",
       "1         452.94354\n",
       "2         621.34930\n",
       "3         681.36566\n",
       "4         976.03992\n",
       "            ...    \n",
       "28181     887.99280\n",
       "28182     529.95868\n",
       "28183    1344.66516\n",
       "28184     766.42438\n",
       "28185     495.27377\n",
       "Name: m/z [Da] (by Search Engine): Sequest HT, Length: 28186, dtype: float64"
      ]
     },
     "execution_count": 5,
     "metadata": {},
     "output_type": "execute_result"
    }
   ],
   "source": [
    "x"
   ]
  },
  {
   "cell_type": "code",
   "execution_count": 6,
   "id": "4ced51a6",
   "metadata": {},
   "outputs": [
    {
     "data": {
      "text/plain": [
       "pandas.core.series.Series"
      ]
     },
     "execution_count": 6,
     "metadata": {},
     "output_type": "execute_result"
    }
   ],
   "source": [
    "type(x)"
   ]
  },
  {
   "cell_type": "code",
   "execution_count": 7,
   "id": "783b4fec",
   "metadata": {},
   "outputs": [],
   "source": [
    "vector_list=[]\n",
    "for i in range(0,28186): #the range here needs to be changed by the length of your list\n",
    "    vector=[x[i],y[i]]\n",
    "    vector_list.append(vector)"
   ]
  },
  {
   "cell_type": "code",
   "execution_count": 8,
   "id": "7f7e9108",
   "metadata": {},
   "outputs": [],
   "source": [
    "# Here is to adjust n_neighbors parameter\n",
    "clf = LocalOutlierFactor(n_neighbors=200)\n",
    "clf.fit_predict(vector_list)\n",
    "result = clf.fit_predict(vector_list)"
   ]
  },
  {
   "cell_type": "code",
   "execution_count": 9,
   "id": "41e673fc",
   "metadata": {},
   "outputs": [
    {
     "data": {
      "text/plain": [
       "array([1, 1, 1, ..., 1, 1, 1])"
      ]
     },
     "execution_count": 9,
     "metadata": {},
     "output_type": "execute_result"
    }
   ],
   "source": [
    "result"
   ]
  },
  {
   "cell_type": "code",
   "execution_count": 10,
   "id": "b852ac45",
   "metadata": {},
   "outputs": [
    {
     "data": {
      "text/plain": [
       "array([-1.02983631, -1.04289254, -0.99915074, ..., -1.28037462,\n",
       "       -0.99941862, -1.00425224])"
      ]
     },
     "execution_count": 10,
     "metadata": {},
     "output_type": "execute_result"
    }
   ],
   "source": [
    "clf.negative_outlier_factor_"
   ]
  },
  {
   "cell_type": "code",
   "execution_count": 11,
   "id": "e0249766",
   "metadata": {},
   "outputs": [
    {
     "data": {
      "text/plain": [
       "175"
      ]
     },
     "execution_count": 11,
     "metadata": {},
     "output_type": "execute_result"
    }
   ],
   "source": [
    "#Briefly check how mnay outliers in your data.\n",
    "count = 0\n",
    "for i in result:\n",
    "    if i == -1:\n",
    "        count +=1\n",
    "count"
   ]
  },
  {
   "cell_type": "code",
   "execution_count": 15,
   "id": "fec2eec3",
   "metadata": {},
   "outputs": [],
   "source": [
    "import csv\n",
    "last_row=len(data)\n",
    "with open('072225_d3 neuron_n=200_Example for paper.csv','w') as csvfile:\n",
    "    writer = csv.writer(csvfile)\n",
    "    writer.writerow(['m/z','RT','fit_predict','negative outlier factor','Uniprot ID','Contamination','Peptide Sequence'])\n",
    "    for a in range(0,last_row):\n",
    "        c1=x[a]\n",
    "        c2=y[a]\n",
    "        c3=result[a]\n",
    "        c4=clf.negative_outlier_factor_[a]\n",
    "        c5=h[a]\n",
    "        c6=z[a]\n",
    "        c7=m[a]\n",
    "        writer.writerow([c1,c2,c3,c4,c5,c6,c7])"
   ]
  },
  {
   "cell_type": "code",
   "execution_count": null,
   "id": "e91fcc5e",
   "metadata": {},
   "outputs": [],
   "source": []
  },
  {
   "cell_type": "code",
   "execution_count": null,
   "id": "b916fb19",
   "metadata": {},
   "outputs": [],
   "source": []
  },
  {
   "cell_type": "code",
   "execution_count": null,
   "id": "6b629942",
   "metadata": {},
   "outputs": [],
   "source": []
  },
  {
   "cell_type": "code",
   "execution_count": null,
   "id": "a99bd780",
   "metadata": {},
   "outputs": [],
   "source": []
  }
 ],
 "metadata": {
  "kernelspec": {
   "display_name": "Python 3 (ipykernel)",
   "language": "python",
   "name": "python3"
  },
  "language_info": {
   "codemirror_mode": {
    "name": "ipython",
    "version": 3
   },
   "file_extension": ".py",
   "mimetype": "text/x-python",
   "name": "python",
   "nbconvert_exporter": "python",
   "pygments_lexer": "ipython3",
   "version": "3.12.8"
  }
 },
 "nbformat": 4,
 "nbformat_minor": 5
}
